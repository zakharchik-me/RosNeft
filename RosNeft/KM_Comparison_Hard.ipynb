{
 "cells": [
  {
   "cell_type": "code",
   "execution_count": 1,
   "id": "8f088405",
   "metadata": {},
   "outputs": [],
   "source": [
    "import warnings\n",
    "warnings.filterwarnings('ignore')"
   ]
  },
  {
   "cell_type": "code",
   "execution_count": 2,
   "id": "1dab13a7",
   "metadata": {},
   "outputs": [],
   "source": [
    "import pandas as pd\n",
    "import numpy as np\n",
    "\n",
    "import matplotlib.pyplot as plt\n",
    "import seaborn as sns\n",
    "\n",
    "import numpy as np"
   ]
  },
  {
   "cell_type": "code",
   "execution_count": 3,
   "id": "44fca2d5",
   "metadata": {},
   "outputs": [],
   "source": [
    "import matplotlib as mlp\n",
    "\n",
    "plt.style.use('dark_background')\n",
    "\n",
    "mlp.rcParams['lines.linewidth'] = 2\n",
    "\n",
    "mlp.rcParams['xtick.major.size'] = 15\n",
    "mlp.rcParams['xtick.major.width'] = 2\n",
    "mlp.rcParams['xtick.labelsize'] = 15\n",
    "mlp.rcParams['xtick.color'] = '#4DFC2D'\n",
    "\n",
    "mlp.rcParams['ytick.major.size'] = 15\n",
    "mlp.rcParams['ytick.major.width'] = 2\n",
    "mlp.rcParams['ytick.labelsize'] = 15\n",
    "mlp.rcParams['ytick.color'] = '#4DFC2D'\n",
    "\n",
    "mlp.rcParams['axes.labelsize'] = 20\n",
    "mlp.rcParams['axes.titlesize'] = 20\n",
    "mlp.rcParams['axes.titlecolor'] = '#ED6919'\n",
    "mlp.rcParams['axes.labelcolor'] = '#ED6919'"
   ]
  },
  {
   "cell_type": "code",
   "execution_count": 54,
   "id": "ee4cab58",
   "metadata": {},
   "outputs": [
    {
     "data": {
      "text/html": [
       "<div>\n",
       "<style scoped>\n",
       "    .dataframe tbody tr th:only-of-type {\n",
       "        vertical-align: middle;\n",
       "    }\n",
       "\n",
       "    .dataframe tbody tr th {\n",
       "        vertical-align: top;\n",
       "    }\n",
       "\n",
       "    .dataframe thead th {\n",
       "        text-align: right;\n",
       "    }\n",
       "</style>\n",
       "<table border=\"1\" class=\"dataframe\">\n",
       "  <thead>\n",
       "    <tr style=\"text-align: right;\">\n",
       "      <th></th>\n",
       "      <th>Номер лактации</th>\n",
       "      <th>Легкость отела</th>\n",
       "      <th>Дней в сухостое предыдущей лактации</th>\n",
       "      <th>Дней стельности при событии</th>\n",
       "      <th>Дни доения при событии</th>\n",
       "      <th>protokol</th>\n",
       "      <th>age</th>\n",
       "      <th>p1</th>\n",
       "      <th>p2</th>\n",
       "      <th>p3</th>\n",
       "      <th>p4</th>\n",
       "      <th>struck</th>\n",
       "      <th>result</th>\n",
       "      <th>stage</th>\n",
       "    </tr>\n",
       "  </thead>\n",
       "  <tbody>\n",
       "    <tr>\n",
       "      <th>0</th>\n",
       "      <td>6</td>\n",
       "      <td>3</td>\n",
       "      <td>62</td>\n",
       "      <td>291</td>\n",
       "      <td>213</td>\n",
       "      <td>МВ</td>\n",
       "      <td>3472</td>\n",
       "      <td>0</td>\n",
       "      <td>0</td>\n",
       "      <td>0</td>\n",
       "      <td>0</td>\n",
       "      <td>0</td>\n",
       "      <td>ТРАВМА</td>\n",
       "      <td>0</td>\n",
       "    </tr>\n",
       "    <tr>\n",
       "      <th>1</th>\n",
       "      <td>6</td>\n",
       "      <td>3</td>\n",
       "      <td>62</td>\n",
       "      <td>291</td>\n",
       "      <td>215</td>\n",
       "      <td>ТМ6</td>\n",
       "      <td>3474</td>\n",
       "      <td>0</td>\n",
       "      <td>0</td>\n",
       "      <td>1</td>\n",
       "      <td>1</td>\n",
       "      <td>2</td>\n",
       "      <td>ТЯЖЕЛОЕ</td>\n",
       "      <td>1</td>\n",
       "    </tr>\n",
       "    <tr>\n",
       "      <th>2</th>\n",
       "      <td>6</td>\n",
       "      <td>3</td>\n",
       "      <td>62</td>\n",
       "      <td>291</td>\n",
       "      <td>221</td>\n",
       "      <td>КМ4</td>\n",
       "      <td>3480</td>\n",
       "      <td>1</td>\n",
       "      <td>0</td>\n",
       "      <td>1</td>\n",
       "      <td>1</td>\n",
       "      <td>3</td>\n",
       "      <td>ЗДОРОВА</td>\n",
       "      <td>2</td>\n",
       "    </tr>\n",
       "    <tr>\n",
       "      <th>3</th>\n",
       "      <td>7</td>\n",
       "      <td>1</td>\n",
       "      <td>60</td>\n",
       "      <td>0</td>\n",
       "      <td>294</td>\n",
       "      <td>КМ5</td>\n",
       "      <td>3541</td>\n",
       "      <td>0</td>\n",
       "      <td>1</td>\n",
       "      <td>0</td>\n",
       "      <td>0</td>\n",
       "      <td>1</td>\n",
       "      <td>БОЛЕЕТ</td>\n",
       "      <td>0</td>\n",
       "    </tr>\n",
       "    <tr>\n",
       "      <th>4</th>\n",
       "      <td>7</td>\n",
       "      <td>1</td>\n",
       "      <td>60</td>\n",
       "      <td>0</td>\n",
       "      <td>302</td>\n",
       "      <td>КМ4</td>\n",
       "      <td>3549</td>\n",
       "      <td>0</td>\n",
       "      <td>1</td>\n",
       "      <td>0</td>\n",
       "      <td>0</td>\n",
       "      <td>1</td>\n",
       "      <td>ТЯЖЕЛОЕ</td>\n",
       "      <td>1</td>\n",
       "    </tr>\n",
       "  </tbody>\n",
       "</table>\n",
       "</div>"
      ],
      "text/plain": [
       "   Номер лактации  Легкость отела  Дней в сухостое предыдущей лактации  \\\n",
       "0               6               3                                   62   \n",
       "1               6               3                                   62   \n",
       "2               6               3                                   62   \n",
       "3               7               1                                   60   \n",
       "4               7               1                                   60   \n",
       "\n",
       "   Дней стельности при событии  Дни доения при событии protokol   age  p1  p2  \\\n",
       "0                          291                     213       МВ  3472   0   0   \n",
       "1                          291                     215      ТМ6  3474   0   0   \n",
       "2                          291                     221      КМ4  3480   1   0   \n",
       "3                            0                     294      КМ5  3541   0   1   \n",
       "4                            0                     302      КМ4  3549   0   1   \n",
       "\n",
       "   p3  p4  struck   result  stage  \n",
       "0   0   0       0   ТРАВМА      0  \n",
       "1   1   1       2  ТЯЖЕЛОЕ      1  \n",
       "2   1   1       3  ЗДОРОВА      2  \n",
       "3   0   0       1   БОЛЕЕТ      0  \n",
       "4   0   0       1  ТЯЖЕЛОЕ      1  "
      ]
     },
     "execution_count": 54,
     "metadata": {},
     "output_type": "execute_result"
    }
   ],
   "source": [
    "df = pd.read_csv('../victor/df_cow_latest.csv')\n",
    "\n",
    "df.head()"
   ]
  },
  {
   "cell_type": "code",
   "execution_count": 55,
   "id": "c10507d0",
   "metadata": {},
   "outputs": [
    {
     "data": {
      "text/html": [
       "<div>\n",
       "<style scoped>\n",
       "    .dataframe tbody tr th:only-of-type {\n",
       "        vertical-align: middle;\n",
       "    }\n",
       "\n",
       "    .dataframe tbody tr th {\n",
       "        vertical-align: top;\n",
       "    }\n",
       "\n",
       "    .dataframe thead th {\n",
       "        text-align: right;\n",
       "    }\n",
       "</style>\n",
       "<table border=\"1\" class=\"dataframe\">\n",
       "  <thead>\n",
       "    <tr style=\"text-align: right;\">\n",
       "      <th></th>\n",
       "      <th>Номер лактации</th>\n",
       "      <th>Легкость отела</th>\n",
       "      <th>Дней в сухостое предыдущей лактации</th>\n",
       "      <th>Дней стельности при событии</th>\n",
       "      <th>Дни доения при событии</th>\n",
       "      <th>protokol</th>\n",
       "      <th>age</th>\n",
       "      <th>p1</th>\n",
       "      <th>p2</th>\n",
       "      <th>p3</th>\n",
       "      <th>p4</th>\n",
       "      <th>struck</th>\n",
       "      <th>result</th>\n",
       "      <th>stage</th>\n",
       "      <th>KM</th>\n",
       "    </tr>\n",
       "  </thead>\n",
       "  <tbody>\n",
       "    <tr>\n",
       "      <th>0</th>\n",
       "      <td>6</td>\n",
       "      <td>3</td>\n",
       "      <td>62</td>\n",
       "      <td>291</td>\n",
       "      <td>213</td>\n",
       "      <td>МВ</td>\n",
       "      <td>3472</td>\n",
       "      <td>0</td>\n",
       "      <td>0</td>\n",
       "      <td>0</td>\n",
       "      <td>0</td>\n",
       "      <td>0</td>\n",
       "      <td>ТРАВМА</td>\n",
       "      <td>0</td>\n",
       "      <td>0</td>\n",
       "    </tr>\n",
       "    <tr>\n",
       "      <th>1</th>\n",
       "      <td>6</td>\n",
       "      <td>3</td>\n",
       "      <td>62</td>\n",
       "      <td>291</td>\n",
       "      <td>215</td>\n",
       "      <td>ТМ6</td>\n",
       "      <td>3474</td>\n",
       "      <td>0</td>\n",
       "      <td>0</td>\n",
       "      <td>1</td>\n",
       "      <td>1</td>\n",
       "      <td>2</td>\n",
       "      <td>ТЯЖЕЛОЕ</td>\n",
       "      <td>1</td>\n",
       "      <td>0</td>\n",
       "    </tr>\n",
       "    <tr>\n",
       "      <th>2</th>\n",
       "      <td>6</td>\n",
       "      <td>3</td>\n",
       "      <td>62</td>\n",
       "      <td>291</td>\n",
       "      <td>221</td>\n",
       "      <td>КМ4</td>\n",
       "      <td>3480</td>\n",
       "      <td>1</td>\n",
       "      <td>0</td>\n",
       "      <td>1</td>\n",
       "      <td>1</td>\n",
       "      <td>3</td>\n",
       "      <td>ЗДОРОВА</td>\n",
       "      <td>2</td>\n",
       "      <td>1</td>\n",
       "    </tr>\n",
       "    <tr>\n",
       "      <th>3</th>\n",
       "      <td>7</td>\n",
       "      <td>1</td>\n",
       "      <td>60</td>\n",
       "      <td>0</td>\n",
       "      <td>294</td>\n",
       "      <td>КМ5</td>\n",
       "      <td>3541</td>\n",
       "      <td>0</td>\n",
       "      <td>1</td>\n",
       "      <td>0</td>\n",
       "      <td>0</td>\n",
       "      <td>1</td>\n",
       "      <td>БОЛЕЕТ</td>\n",
       "      <td>0</td>\n",
       "      <td>1</td>\n",
       "    </tr>\n",
       "    <tr>\n",
       "      <th>4</th>\n",
       "      <td>7</td>\n",
       "      <td>1</td>\n",
       "      <td>60</td>\n",
       "      <td>0</td>\n",
       "      <td>302</td>\n",
       "      <td>КМ4</td>\n",
       "      <td>3549</td>\n",
       "      <td>0</td>\n",
       "      <td>1</td>\n",
       "      <td>0</td>\n",
       "      <td>0</td>\n",
       "      <td>1</td>\n",
       "      <td>ТЯЖЕЛОЕ</td>\n",
       "      <td>1</td>\n",
       "      <td>1</td>\n",
       "    </tr>\n",
       "  </tbody>\n",
       "</table>\n",
       "</div>"
      ],
      "text/plain": [
       "   Номер лактации  Легкость отела  Дней в сухостое предыдущей лактации  \\\n",
       "0               6               3                                   62   \n",
       "1               6               3                                   62   \n",
       "2               6               3                                   62   \n",
       "3               7               1                                   60   \n",
       "4               7               1                                   60   \n",
       "\n",
       "   Дней стельности при событии  Дни доения при событии protokol   age  p1  p2  \\\n",
       "0                          291                     213       МВ  3472   0   0   \n",
       "1                          291                     215      ТМ6  3474   0   0   \n",
       "2                          291                     221      КМ4  3480   1   0   \n",
       "3                            0                     294      КМ5  3541   0   1   \n",
       "4                            0                     302      КМ4  3549   0   1   \n",
       "\n",
       "   p3  p4  struck   result  stage  KM  \n",
       "0   0   0       0   ТРАВМА      0   0  \n",
       "1   1   1       2  ТЯЖЕЛОЕ      1   0  \n",
       "2   1   1       3  ЗДОРОВА      2   1  \n",
       "3   0   0       1   БОЛЕЕТ      0   1  \n",
       "4   0   0       1  ТЯЖЕЛОЕ      1   1  "
      ]
     },
     "execution_count": 55,
     "metadata": {},
     "output_type": "execute_result"
    }
   ],
   "source": [
    "# Название колонки - англ, в лямбде - русский\n",
    "df['KM'] = df.protokol.str[:2].apply(lambda x: x == 'КМ').astype(int)\n",
    "\n",
    "df.head()"
   ]
  },
  {
   "cell_type": "code",
   "execution_count": 56,
   "id": "9980d83d",
   "metadata": {},
   "outputs": [
    {
     "data": {
      "text/plain": [
       "КМ1    1917\n",
       "КМ3    1054\n",
       "КМ5    1031\n",
       "КМ4     732\n",
       "КМ2     510\n",
       "КМ6     431\n",
       "КМ7      41\n",
       "КМ8      20\n",
       "Name: protokol, dtype: int64"
      ]
     },
     "execution_count": 56,
     "metadata": {},
     "output_type": "execute_result"
    }
   ],
   "source": [
    "df = df[df.KM == 1]\n",
    "\n",
    "df.protokol.value_counts()"
   ]
  },
  {
   "cell_type": "code",
   "execution_count": 57,
   "id": "94c2140c",
   "metadata": {},
   "outputs": [
    {
     "data": {
      "text/html": [
       "<div>\n",
       "<style scoped>\n",
       "    .dataframe tbody tr th:only-of-type {\n",
       "        vertical-align: middle;\n",
       "    }\n",
       "\n",
       "    .dataframe tbody tr th {\n",
       "        vertical-align: top;\n",
       "    }\n",
       "\n",
       "    .dataframe thead th {\n",
       "        text-align: right;\n",
       "    }\n",
       "</style>\n",
       "<table border=\"1\" class=\"dataframe\">\n",
       "  <thead>\n",
       "    <tr style=\"text-align: right;\">\n",
       "      <th></th>\n",
       "      <th>Номер лактации</th>\n",
       "      <th>Легкость отела</th>\n",
       "      <th>Дней в сухостое предыдущей лактации</th>\n",
       "      <th>Дней стельности при событии</th>\n",
       "      <th>Дни доения при событии</th>\n",
       "      <th>protokol</th>\n",
       "      <th>age</th>\n",
       "      <th>p1</th>\n",
       "      <th>p2</th>\n",
       "      <th>p3</th>\n",
       "      <th>p4</th>\n",
       "      <th>struck</th>\n",
       "      <th>result</th>\n",
       "      <th>stage</th>\n",
       "      <th>KM</th>\n",
       "      <th>version_km</th>\n",
       "    </tr>\n",
       "  </thead>\n",
       "  <tbody>\n",
       "    <tr>\n",
       "      <th>0</th>\n",
       "      <td>6</td>\n",
       "      <td>3</td>\n",
       "      <td>62</td>\n",
       "      <td>291</td>\n",
       "      <td>221</td>\n",
       "      <td>КМ4</td>\n",
       "      <td>3480</td>\n",
       "      <td>1</td>\n",
       "      <td>0</td>\n",
       "      <td>1</td>\n",
       "      <td>1</td>\n",
       "      <td>3</td>\n",
       "      <td>ЗДОРОВА</td>\n",
       "      <td>2</td>\n",
       "      <td>1</td>\n",
       "      <td>4</td>\n",
       "    </tr>\n",
       "    <tr>\n",
       "      <th>1</th>\n",
       "      <td>7</td>\n",
       "      <td>1</td>\n",
       "      <td>60</td>\n",
       "      <td>0</td>\n",
       "      <td>294</td>\n",
       "      <td>КМ5</td>\n",
       "      <td>3541</td>\n",
       "      <td>0</td>\n",
       "      <td>1</td>\n",
       "      <td>0</td>\n",
       "      <td>0</td>\n",
       "      <td>1</td>\n",
       "      <td>БОЛЕЕТ</td>\n",
       "      <td>0</td>\n",
       "      <td>1</td>\n",
       "      <td>5</td>\n",
       "    </tr>\n",
       "    <tr>\n",
       "      <th>2</th>\n",
       "      <td>7</td>\n",
       "      <td>1</td>\n",
       "      <td>60</td>\n",
       "      <td>0</td>\n",
       "      <td>302</td>\n",
       "      <td>КМ4</td>\n",
       "      <td>3549</td>\n",
       "      <td>0</td>\n",
       "      <td>1</td>\n",
       "      <td>0</td>\n",
       "      <td>0</td>\n",
       "      <td>1</td>\n",
       "      <td>ТЯЖЕЛОЕ</td>\n",
       "      <td>1</td>\n",
       "      <td>1</td>\n",
       "      <td>4</td>\n",
       "    </tr>\n",
       "    <tr>\n",
       "      <th>3</th>\n",
       "      <td>7</td>\n",
       "      <td>1</td>\n",
       "      <td>60</td>\n",
       "      <td>0</td>\n",
       "      <td>310</td>\n",
       "      <td>КМ5</td>\n",
       "      <td>3557</td>\n",
       "      <td>0</td>\n",
       "      <td>1</td>\n",
       "      <td>0</td>\n",
       "      <td>0</td>\n",
       "      <td>1</td>\n",
       "      <td>ТЯЖЕЛОЕ</td>\n",
       "      <td>2</td>\n",
       "      <td>1</td>\n",
       "      <td>5</td>\n",
       "    </tr>\n",
       "    <tr>\n",
       "      <th>4</th>\n",
       "      <td>7</td>\n",
       "      <td>1</td>\n",
       "      <td>60</td>\n",
       "      <td>0</td>\n",
       "      <td>324</td>\n",
       "      <td>КМ5</td>\n",
       "      <td>3571</td>\n",
       "      <td>0</td>\n",
       "      <td>1</td>\n",
       "      <td>0</td>\n",
       "      <td>1</td>\n",
       "      <td>2</td>\n",
       "      <td>ТЯЖЕЛОЕ</td>\n",
       "      <td>3</td>\n",
       "      <td>1</td>\n",
       "      <td>5</td>\n",
       "    </tr>\n",
       "  </tbody>\n",
       "</table>\n",
       "</div>"
      ],
      "text/plain": [
       "   Номер лактации  Легкость отела  Дней в сухостое предыдущей лактации  \\\n",
       "0               6               3                                   62   \n",
       "1               7               1                                   60   \n",
       "2               7               1                                   60   \n",
       "3               7               1                                   60   \n",
       "4               7               1                                   60   \n",
       "\n",
       "   Дней стельности при событии  Дни доения при событии protokol   age  p1  p2  \\\n",
       "0                          291                     221      КМ4  3480   1   0   \n",
       "1                            0                     294      КМ5  3541   0   1   \n",
       "2                            0                     302      КМ4  3549   0   1   \n",
       "3                            0                     310      КМ5  3557   0   1   \n",
       "4                            0                     324      КМ5  3571   0   1   \n",
       "\n",
       "   p3  p4  struck   result  stage  KM  version_km  \n",
       "0   1   1       3  ЗДОРОВА      2   1           4  \n",
       "1   0   0       1   БОЛЕЕТ      0   1           5  \n",
       "2   0   0       1  ТЯЖЕЛОЕ      1   1           4  \n",
       "3   0   0       1  ТЯЖЕЛОЕ      2   1           5  \n",
       "4   0   1       2  ТЯЖЕЛОЕ      3   1           5  "
      ]
     },
     "execution_count": 57,
     "metadata": {},
     "output_type": "execute_result"
    }
   ],
   "source": [
    "df_km = df.copy().reset_index().drop('index', axis=1)\n",
    "df_km['version_km'] = df_km.protokol.apply(lambda x: x[-1]).astype(int)\n",
    "\n",
    "df_km.head()"
   ]
  },
  {
   "cell_type": "code",
   "execution_count": 58,
   "id": "e56b8b25",
   "metadata": {},
   "outputs": [
    {
     "data": {
      "text/plain": [
       "ТЯЖЕЛОЕ    2900\n",
       "БОЛЕЕТ     2020\n",
       "ЗДОРОВА     719\n",
       "СРЕДНЕЕ      65\n",
       "ТРАВМА       23\n",
       "ЛЕГКОЕ        9\n",
       "Name: result, dtype: int64"
      ]
     },
     "execution_count": 58,
     "metadata": {},
     "output_type": "execute_result"
    }
   ],
   "source": [
    "df_km.result.value_counts()"
   ]
  },
  {
   "cell_type": "code",
   "execution_count": 59,
   "id": "0b265a09",
   "metadata": {},
   "outputs": [
    {
     "data": {
      "text/plain": [
       "1    2900\n",
       "0    2836\n",
       "Name: hard, dtype: int64"
      ]
     },
     "execution_count": 59,
     "metadata": {},
     "output_type": "execute_result"
    }
   ],
   "source": [
    "df_km['hard'] = (df_km.result == 'ТЯЖЕЛОЕ').astype(int)\n",
    "\n",
    "\n",
    "df_km.hard.value_counts()"
   ]
  },
  {
   "cell_type": "code",
   "execution_count": 60,
   "id": "b1ab9509",
   "metadata": {},
   "outputs": [
    {
     "data": {
      "text/plain": [
       "version_km\n",
       "1    0.510172\n",
       "2    0.496078\n",
       "3    0.456357\n",
       "4    0.528689\n",
       "5    0.545102\n",
       "6    0.491879\n",
       "7    0.414634\n",
       "8    0.500000\n",
       "Name: hard, dtype: float64"
      ]
     },
     "execution_count": 60,
     "metadata": {},
     "output_type": "execute_result"
    }
   ],
   "source": [
    "df_km.groupby('version_km').hard.mean()"
   ]
  },
  {
   "cell_type": "code",
   "execution_count": 61,
   "id": "ed3781e9",
   "metadata": {
    "scrolled": true
   },
   "outputs": [
    {
     "data": {
      "text/plain": [
       "version_km\n",
       "1    1917\n",
       "2     510\n",
       "3    1054\n",
       "4     732\n",
       "5    1031\n",
       "6     431\n",
       "7      41\n",
       "8      20\n",
       "Name: hard, dtype: int64"
      ]
     },
     "execution_count": 61,
     "metadata": {},
     "output_type": "execute_result"
    }
   ],
   "source": [
    "df_km.groupby('version_km').hard.count()"
   ]
  },
  {
   "cell_type": "code",
   "execution_count": 83,
   "id": "c244772e",
   "metadata": {},
   "outputs": [],
   "source": [
    "from math import factorial\n",
    "from itertools import combinations\n",
    "from statsmodels.stats.weightstats import ztest\n",
    "\n",
    "\n",
    "def multiple_comparisons(col, data, y='version_km', a=0.05):\n",
    "    p_values = []\n",
    "\n",
    "    for i, tup in enumerate(combinations(sorted(data[y].unique()), 2)):\n",
    "        p_values.append(\n",
    "            ztest(data[data[y] == tup[0]][col], \\\n",
    "                         data[data[y] == tup[1]][col])[1]\n",
    "        )\n",
    "        \n",
    "    p_values.sort()\n",
    "    \n",
    "#     print(p_values)\n",
    "    \n",
    "    \n",
    "    if data[y].nunique() < 2: return \"Not enough samples\"\n",
    "    \n",
    "    m = factorial(data[y].nunique()) / (factorial(data[y].nunique() - 2) * 2)\n",
    "    \n",
    "    stat_diff = 0\n",
    "    pairs_diff = []\n",
    "    \n",
    "    for i, pval in enumerate(p_values):\n",
    "        if pval < a / (m - i):\n",
    "            stat_diff += 1\n",
    "        else: \n",
    "            return stat_diff\n",
    "        \n",
    "    return stat_diff"
   ]
  },
  {
   "cell_type": "code",
   "execution_count": 84,
   "id": "dd4b332b",
   "metadata": {},
   "outputs": [
    {
     "name": "stdout",
     "output_type": "stream",
     "text": [
      "Stage 0:\t 0\n",
      "Stage 1:\t 2\n",
      "Stage 2:\t 0\n",
      "Stage 3:\t 0\n",
      "Stage 4:\t 0\n",
      "Stage 5:\t 0\n",
      "Stage 6:\t 1\n",
      "Stage 7:\t 0\n",
      "Stage 8:\t 1\n",
      "Stage 9:\t 0\n",
      "Stage 10:\t 0\n",
      "Stage 11:\t 0\n",
      "Stage 12:\t 0\n",
      "Stage 13:\t 0\n",
      "Stage 14:\t 2\n",
      "Stage 15:\t 0\n",
      "Stage 16:\t 0\n",
      "Stage 17:\t 0\n",
      "Stage 18:\t 0\n",
      "Stage 19:\t Not enough samples\n",
      "Stage 20:\t Not enough samples\n",
      "Stage 21:\t Not enough samples\n",
      "Stage 22:\t Not enough samples\n"
     ]
    }
   ],
   "source": [
    "for i in range(23):\n",
    "    print(f'Stage {i}:\\t', multiple_comparisons('hard', df_km[df_km.stage == i]))"
   ]
  },
  {
   "cell_type": "code",
   "execution_count": null,
   "id": "ec599ef7",
   "metadata": {},
   "outputs": [],
   "source": [
    "df_km.hard.value_counts()"
   ]
  },
  {
   "cell_type": "markdown",
   "id": "5ceb613c",
   "metadata": {},
   "source": [
    "Это единственное различие есть между КМ1 и КМ3"
   ]
  },
  {
   "cell_type": "code",
   "execution_count": 73,
   "id": "f8f7cb3a",
   "metadata": {},
   "outputs": [
    {
     "data": {
      "text/plain": [
       "0.004953154050226471"
      ]
     },
     "execution_count": 73,
     "metadata": {},
     "output_type": "execute_result"
    }
   ],
   "source": [
    "ztest(df_km[df_km.version_km == 1].hard, df_km[df_km.version_km == 3].hard)[1]"
   ]
  },
  {
   "cell_type": "markdown",
   "id": "e35fa87d",
   "metadata": {},
   "source": [
    "Также отдельно сравним 4 и 5 протоколы лечения со всеми остальными"
   ]
  },
  {
   "cell_type": "code",
   "execution_count": 117,
   "id": "6d5347aa",
   "metadata": {},
   "outputs": [],
   "source": [
    "def compare_all(prot):\n",
    "    pvalues = []\n",
    "    \n",
    "    for i in range(1, 9):\n",
    "        if i != prot:\n",
    "            pvalues.append(\n",
    "                (i, ztest(df_km[df_km.version_km == i].hard\n",
    "                       , df_km[df_km.version_km == prot].hard)[1].round(4))\n",
    "            )\n",
    "    \n",
    "    return pvalues"
   ]
  },
  {
   "cell_type": "code",
   "execution_count": 119,
   "id": "c66e2492",
   "metadata": {},
   "outputs": [
    {
     "data": {
      "text/plain": [
       "[(1, 0.3939),\n",
       " (2, 0.2581),\n",
       " (3, 0.0026),\n",
       " (5, 0.4959),\n",
       " (6, 0.2252),\n",
       " (7, 0.1548),\n",
       " (8, 0.8001)]"
      ]
     },
     "execution_count": 119,
     "metadata": {},
     "output_type": "execute_result"
    }
   ],
   "source": [
    "compare_all(4)"
   ]
  },
  {
   "cell_type": "code",
   "execution_count": 120,
   "id": "44b94ff0",
   "metadata": {},
   "outputs": [
    {
     "data": {
      "text/plain": [
       "[(1, 0.0701),\n",
       " (2, 0.0695),\n",
       " (3, 0.0),\n",
       " (4, 0.4959),\n",
       " (6, 0.0629),\n",
       " (7, 0.1001),\n",
       " (8, 0.6886)]"
      ]
     },
     "execution_count": 120,
     "metadata": {},
     "output_type": "execute_result"
    }
   ],
   "source": [
    "compare_all(5)"
   ]
  },
  {
   "cell_type": "code",
   "execution_count": 110,
   "id": "0614167f",
   "metadata": {},
   "outputs": [
    {
     "data": {
      "image/png": "[encoded data removed]",
      "text/plain": [
       "<Figure size 1152x1152 with 8 Axes>"
      ]
     },
     "metadata": {},
     "output_type": "display_data"
    }
   ],
   "source": [
    "fig = plt.figure(figsize=(16, 16))\n",
    "\n",
    "for i in range(1, 9):\n",
    "    fig.add_subplot(4, 4, i)\n",
    "    sns.countplot(df_km[df_km.version_km == i].hard)\n",
    "    plt.title(f'KM версия {i}')\n",
    "    plt.xlabel('')\n",
    "    \n",
    "fig.tight_layout()\n",
    "plt.show()"
   ]
  },
  {
   "cell_type": "code",
   "execution_count": 99,
   "id": "8d00c8b6",
   "metadata": {},
   "outputs": [
    {
     "ename": "ValueError",
     "evalue": "Cannot pass values for both `x` and `y`",
     "output_type": "error",
     "traceback": [
      "\u001b[0;31m---------------------------------------------------------------------------\u001b[0m",
      "\u001b[0;31mValueError\u001b[0m                                Traceback (most recent call last)",
      "\u001b[0;32m/var/folders/6d/jcsgnwtj1857x2zvzznd28jw0000gn/T/ipykernel_88022/3516860993.py\u001b[0m in \u001b[0;36m<module>\u001b[0;34m\u001b[0m\n\u001b[0;32m----> 1\u001b[0;31m \u001b[0msns\u001b[0m\u001b[0;34m.\u001b[0m\u001b[0mcountplot\u001b[0m\u001b[0;34m(\u001b[0m\u001b[0mdf_km\u001b[0m\u001b[0;34m.\u001b[0m\u001b[0mversion_km\u001b[0m\u001b[0;34m,\u001b[0m \u001b[0mdf_km\u001b[0m\u001b[0;34m.\u001b[0m\u001b[0mhard\u001b[0m\u001b[0;34m)\u001b[0m\u001b[0;34m\u001b[0m\u001b[0;34m\u001b[0m\u001b[0m\n\u001b[0m\u001b[1;32m      2\u001b[0m \u001b[0;34m\u001b[0m\u001b[0m\n\u001b[1;32m      3\u001b[0m \u001b[0mplt\u001b[0m\u001b[0;34m.\u001b[0m\u001b[0mshow\u001b[0m\u001b[0;34m(\u001b[0m\u001b[0;34m)\u001b[0m\u001b[0;34m\u001b[0m\u001b[0;34m\u001b[0m\u001b[0m\n",
      "\u001b[0;32m~/opt/anaconda3/lib/python3.9/site-packages/seaborn/_decorators.py\u001b[0m in \u001b[0;36minner_f\u001b[0;34m(*args, **kwargs)\u001b[0m\n\u001b[1;32m     44\u001b[0m             )\n\u001b[1;32m     45\u001b[0m         \u001b[0mkwargs\u001b[0m\u001b[0;34m.\u001b[0m\u001b[0mupdate\u001b[0m\u001b[0;34m(\u001b[0m\u001b[0;34m{\u001b[0m\u001b[0mk\u001b[0m\u001b[0;34m:\u001b[0m \u001b[0marg\u001b[0m \u001b[0;32mfor\u001b[0m \u001b[0mk\u001b[0m\u001b[0;34m,\u001b[0m \u001b[0marg\u001b[0m \u001b[0;32min\u001b[0m \u001b[0mzip\u001b[0m\u001b[0;34m(\u001b[0m\u001b[0msig\u001b[0m\u001b[0;34m.\u001b[0m\u001b[0mparameters\u001b[0m\u001b[0;34m,\u001b[0m \u001b[0margs\u001b[0m\u001b[0;34m)\u001b[0m\u001b[0;34m}\u001b[0m\u001b[0;34m)\u001b[0m\u001b[0;34m\u001b[0m\u001b[0;34m\u001b[0m\u001b[0m\n\u001b[0;32m---> 46\u001b[0;31m         \u001b[0;32mreturn\u001b[0m \u001b[0mf\u001b[0m\u001b[0;34m(\u001b[0m\u001b[0;34m**\u001b[0m\u001b[0mkwargs\u001b[0m\u001b[0;34m)\u001b[0m\u001b[0;34m\u001b[0m\u001b[0;34m\u001b[0m\u001b[0m\n\u001b[0m\u001b[1;32m     47\u001b[0m     \u001b[0;32mreturn\u001b[0m \u001b[0minner_f\u001b[0m\u001b[0;34m\u001b[0m\u001b[0;34m\u001b[0m\u001b[0m\n\u001b[1;32m     48\u001b[0m \u001b[0;34m\u001b[0m\u001b[0m\n",
      "\u001b[0;32m~/opt/anaconda3/lib/python3.9/site-packages/seaborn/categorical.py\u001b[0m in \u001b[0;36mcountplot\u001b[0;34m(x, y, hue, data, order, hue_order, orient, color, palette, saturation, dodge, ax, **kwargs)\u001b[0m\n\u001b[1;32m   3594\u001b[0m         \u001b[0my\u001b[0m \u001b[0;34m=\u001b[0m \u001b[0mx\u001b[0m\u001b[0;34m\u001b[0m\u001b[0;34m\u001b[0m\u001b[0m\n\u001b[1;32m   3595\u001b[0m     \u001b[0;32melif\u001b[0m \u001b[0mx\u001b[0m \u001b[0;32mis\u001b[0m \u001b[0;32mnot\u001b[0m \u001b[0;32mNone\u001b[0m \u001b[0;32mand\u001b[0m \u001b[0my\u001b[0m \u001b[0;32mis\u001b[0m \u001b[0;32mnot\u001b[0m \u001b[0;32mNone\u001b[0m\u001b[0;34m:\u001b[0m\u001b[0;34m\u001b[0m\u001b[0;34m\u001b[0m\u001b[0m\n\u001b[0;32m-> 3596\u001b[0;31m         \u001b[0;32mraise\u001b[0m \u001b[0mValueError\u001b[0m\u001b[0;34m(\u001b[0m\u001b[0;34m\"Cannot pass values for both `x` and `y`\"\u001b[0m\u001b[0;34m)\u001b[0m\u001b[0;34m\u001b[0m\u001b[0;34m\u001b[0m\u001b[0m\n\u001b[0m\u001b[1;32m   3597\u001b[0m \u001b[0;34m\u001b[0m\u001b[0m\n\u001b[1;32m   3598\u001b[0m     plotter = _CountPlotter(\n",
      "\u001b[0;31mValueError\u001b[0m: Cannot pass values for both `x` and `y`"
     ]
    }
   ],
   "source": [
    "sns.countplot(df_km.version_km, df_km.hard)\n",
    "\n",
    "plt.show()"
   ]
  },
  {
   "cell_type": "markdown",
   "id": "af77aca2",
   "metadata": {},
   "source": [
    "С применением множественной поправки 4 протокол `КМ` также будет отличаться от 3 протокола"
   ]
  },
  {
   "cell_type": "code",
   "execution_count": null,
   "id": "c97382b6",
   "metadata": {},
   "outputs": [],
   "source": [
    "ztest"
   ]
  },
  {
   "cell_type": "code",
   "execution_count": 86,
   "id": "9af3eaa1",
   "metadata": {},
   "outputs": [
    {
     "data": {
      "image/png": "[encoded data removed]",
      "text/plain": [
       "<Figure size 432x288 with 1 Axes>"
      ]
     },
     "metadata": {},
     "output_type": "display_data"
    }
   ],
   "source": [
    "vals = df_km[df_km.version_km.isin([3, 4])]\n",
    "\n",
    "sns.countplot(vals.hard, hue=vals.version_km)\n",
    "\n",
    "plt.show()"
   ]
  },
  {
   "cell_type": "code",
   "execution_count": 89,
   "id": "f3bf5a96",
   "metadata": {},
   "outputs": [
    {
     "data": {
      "image/png": "[encoded data removed]",
      "text/plain": [
       "<Figure size 432x288 with 1 Axes>"
      ]
     },
     "metadata": {},
     "output_type": "display_data"
    }
   ],
   "source": [
    "vals = df_km[df_km.version_km.isin([4, 5])]\n",
    "\n",
    "\n",
    "sns.countplot(vals.hard, hue=vals.version_km)\n",
    "\n",
    "plt.show()"
   ]
  },
  {
   "cell_type": "code",
   "execution_count": 91,
   "id": "df1ee6c0",
   "metadata": {},
   "outputs": [
    {
     "data": {
      "text/plain": [
       "(-4.066112784415759, 4.780380774973058e-05)"
      ]
     },
     "execution_count": 91,
     "metadata": {},
     "output_type": "execute_result"
    }
   ],
   "source": [
    "ztest(\n",
    "    df_km[df_km.version_km == 3].hard, vals[vals.version_km == 5].hard\n",
    ")"
   ]
  }
 ],
 "metadata": {
  "kernelspec": {
   "display_name": "Python 3 (ipykernel)",
   "language": "python",
   "name": "python3"
  },
  "language_info": {
   "codemirror_mode": {
    "name": "ipython",
    "version": 3
   },
   "file_extension": ".py",
   "mimetype": "text/x-python",
   "name": "python",
   "nbconvert_exporter": "python",
   "pygments_lexer": "ipython3",
   "version": "3.9.7"
  }
 },
 "nbformat": 4,
 "nbformat_minor": 5
}
